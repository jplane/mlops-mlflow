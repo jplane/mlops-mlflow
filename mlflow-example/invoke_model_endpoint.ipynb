{
 "cells": [
  {
   "cell_type": "code",
   "execution_count": null,
   "metadata": {},
   "outputs": [],
   "source": [
    "import json\n",
    "import requests\n",
    "\n",
    "url = 'http://localhost:8080/invocations'\n",
    "\n",
    "headers = { 'Content-Type' : 'application/json' }\n",
    "\n",
    "data = {\n",
    "    \"dataframe_split\": {\n",
    "        \"columns\": [\n",
    "            \"alcohol\",\n",
    "            \"chlorides\",\n",
    "            \"citric acid\",\n",
    "            \"density\",\n",
    "            \"fixed acidity\",\n",
    "            \"free sulfur dioxide\",\n",
    "            \"pH\",\n",
    "            \"residual sugar\",\n",
    "            \"sulphates\",\n",
    "            \"total sulfur dioxide\",\n",
    "            \"volatile acidity\"\n",
    "        ],\n",
    "        \"data\": [\n",
    "            [12.8, 0.029, 0.48, 0.98, 6.2, 29, 3.33, 1.2, 0.39, 75, 0.66]\n",
    "        ]\n",
    "    }\n",
    "}\n",
    "\n",
    "r = requests.post(url, data=json.dumps(data), headers=headers)\n",
    "\n",
    "r.raise_for_status()\n",
    "\n",
    "print(r.json())\n"
   ]
  }
 ],
 "metadata": {
  "language_info": {
   "name": "python"
  },
  "orig_nbformat": 4
 },
 "nbformat": 4,
 "nbformat_minor": 2
}
