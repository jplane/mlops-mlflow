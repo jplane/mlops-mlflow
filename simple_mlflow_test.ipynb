{
 "cells": [
  {
   "cell_type": "code",
   "execution_count": 4,
   "id": "9b04018d-3b4c-4c90-9fcd-20c5117224bf",
   "metadata": {},
   "outputs": [],
   "source": [
    "import os\n",
    "import mlflow\n",
    "import pandas as pd"
   ]
  },
  {
   "cell_type": "code",
   "execution_count": null,
   "id": "a51fcb29",
   "metadata": {},
   "outputs": [],
   "source": [
    "df = pd.DataFrame([10,20,30,40,50,60], columns=['some_values'])\n",
    "\n",
    "df.to_json(path_or_buf=\"numbers.json\")"
   ]
  },
  {
   "cell_type": "code",
   "execution_count": null,
   "id": "39a39485-76be-46c4-a89a-2da73567b9fd",
   "metadata": {},
   "outputs": [],
   "source": [
    "mlflow.set_experiment(\"experiment1\")\n",
    "\n",
    "with mlflow.start_run(run_name='run1'): \n",
    "    mlflow.log_param(key=\"foobar\", value=188)\n",
    "    mlflow.log_artifact(\"numbers.json\")"
   ]
  },
  {
   "cell_type": "code",
   "execution_count": null,
   "id": "9f5e5433",
   "metadata": {},
   "outputs": [],
   "source": [
    "df = pd.DataFrame(['a', 'b', 'c', 'd'], columns=['some_other_values'])\n",
    "\n",
    "df.to_json(path_or_buf=\"letters.json\")"
   ]
  },
  {
   "cell_type": "code",
   "execution_count": null,
   "id": "f4a53967",
   "metadata": {},
   "outputs": [],
   "source": [
    "with mlflow.start_run(run_name='run2'): \n",
    "    mlflow.log_param(key=\"foobaz\", value='hello world')\n",
    "    mlflow.log_artifact(\"letters.json\")"
   ]
  }
 ],
 "metadata": {
  "kernelspec": {
   "display_name": "Python 3 (ipykernel)",
   "language": "python",
   "name": "python3"
  },
  "language_info": {
   "codemirror_mode": {
    "name": "ipython",
    "version": 3
   },
   "file_extension": ".py",
   "mimetype": "text/x-python",
   "name": "python",
   "nbconvert_exporter": "python",
   "pygments_lexer": "ipython3",
   "version": "3.10.8"
  }
 },
 "nbformat": 4,
 "nbformat_minor": 5
}
